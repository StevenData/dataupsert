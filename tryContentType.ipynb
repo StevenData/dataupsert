{
 "cells": [
  {
   "cell_type": "markdown",
   "id": "108a4903",
   "metadata": {},
   "source": [
    "# try Content-Type"
   ]
  },
  {
   "cell_type": "markdown",
   "id": "29e5eb2c",
   "metadata": {},
   "source": [
    "## try HTML5 download attribute. not working\n",
    "<a download=\"a\" href=\"./data/json.json\">Click here to Download json.json</a>"
   ]
  },
  {
   "cell_type": "markdown",
   "id": "9ec6eadc",
   "metadata": {},
   "source": [
    "## try2 \n",
    "[download this](./data/json.json)"
   ]
  },
  {
   "cell_type": "markdown",
   "id": "f09b4f38",
   "metadata": {},
   "source": [
    "## try5\n",
    "<a download=\"json\" href=\"https://asadatalakeyv8r2e0.blob.core.windows.net/pub/json.json\">Click here to Download json.json</a>"
   ]
  },
  {
   "cell_type": "markdown",
   "id": "dc0e4cc9",
   "metadata": {},
   "source": [
    "## try\n",
    "<a href=\"https://asadatalakeyv8r2e0.blob.core.windows.net/pub/json.json\">Right Click here to save as json.json</a>"
   ]
  },
  {
   "cell_type": "code",
   "execution_count": null,
   "id": "7d9e79e6",
   "metadata": {},
   "outputs": [],
   "source": []
  }
 ],
 "metadata": {
  "kernelspec": {
   "display_name": "Python 3 (ipykernel)",
   "language": "python",
   "name": "python3"
  },
  "language_info": {
   "codemirror_mode": {
    "name": "ipython",
    "version": 3
   },
   "file_extension": ".py",
   "mimetype": "text/x-python",
   "name": "python",
   "nbconvert_exporter": "python",
   "pygments_lexer": "ipython3",
   "version": "3.9.12"
  }
 },
 "nbformat": 4,
 "nbformat_minor": 5
}
