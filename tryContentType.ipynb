{
 "cells": [
  {
   "cell_type": "markdown",
   "id": "e339dbdc",
   "metadata": {},
   "source": [
    "# try Content-Type\n",
    "<a download=\"quot.pdf\" href=\"./data/json.json\">Click here to Download json.json</a>"
   ]
  },
  {
   "cell_type": "code",
   "execution_count": null,
   "id": "fd1dae74",
   "metadata": {},
   "outputs": [],
   "source": []
  }
 ],
 "metadata": {
  "kernelspec": {
   "display_name": "Python 3 (ipykernel)",
   "language": "python",
   "name": "python3"
  },
  "language_info": {
   "codemirror_mode": {
    "name": "ipython",
    "version": 3
   },
   "file_extension": ".py",
   "mimetype": "text/x-python",
   "name": "python",
   "nbconvert_exporter": "python",
   "pygments_lexer": "ipython3",
   "version": "3.9.12"
  }
 },
 "nbformat": 4,
 "nbformat_minor": 5
}
