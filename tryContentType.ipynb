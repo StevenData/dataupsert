{
 "cells": [
  {
   "cell_type": "markdown",
   "id": "108a4903",
   "metadata": {},
   "source": [
    "# try Content-Type"
   ]
  },
  {
   "cell_type": "markdown",
   "id": "29e5eb2c",
   "metadata": {},
   "source": [
    "## try HTML5 download attribute. not working\n",
    "<a download=\"quot.pdf\" href=\"./data/json.json\">Click here to Download json.json</a>"
   ]
  },
  {
   "cell_type": "markdown",
   "id": "9ec6eadc",
   "metadata": {},
   "source": [
    "## try \n",
    "[download this](./data/json.json)"
   ]
  },
  {
   "cell_type": "markdown",
   "id": "4a69c28f",
   "metadata": {},
   "source": [
    "## try \n",
    "[download this](https://asadatalakeyv8r2e0.blob.core.windows.net/tempdata/json.json)"
   ]
  },
  {
   "cell_type": "markdown",
   "id": "0fdc28d8",
   "metadata": {},
   "source": [
    "## try HTML5 download attribute. not working\n",
    "<a download=\"json\" href=\"https://asadatalakeyv8r2e0.blob.core.windows.net/tempdata/json.json\">Click here to Download json.json</a>"
   ]
  },
  {
   "cell_type": "code",
   "execution_count": null,
   "id": "0bc88dfe",
   "metadata": {},
   "outputs": [],
   "source": []
  }
 ],
 "metadata": {
  "kernelspec": {
   "display_name": "Python 3 (ipykernel)",
   "language": "python",
   "name": "python3"
  },
  "language_info": {
   "codemirror_mode": {
    "name": "ipython",
    "version": 3
   },
   "file_extension": ".py",
   "mimetype": "text/x-python",
   "name": "python",
   "nbconvert_exporter": "python",
   "pygments_lexer": "ipython3",
   "version": "3.9.12"
  }
 },
 "nbformat": 4,
 "nbformat_minor": 5
}
